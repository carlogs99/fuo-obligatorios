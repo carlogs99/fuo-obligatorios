{
  "nbformat": 4,
  "nbformat_minor": 0,
  "metadata": {
    "colab": {
      "provenance": []
    },
    "kernelspec": {
      "name": "python3",
      "display_name": "Python 3"
    },
    "language_info": {
      "name": "python"
    }
  },
  "cells": [
    {
      "cell_type": "code",
      "metadata": {
        "colab": {
          "base_uri": "https://localhost:8080/",
          "height": 1000
        },
        "id": "1upfalAyoCpx",
        "outputId": "10a31ee1-398f-47a0-b969-194629fdf87f"
      },
      "source": [
        "#Primer obligatorio FuO\n",
        "#Santiago Algorta y Carlos Gruss\n",
        "#FInG UdelaR 2021\n",
        " \n",
        "import numpy as np\n",
        "import matplotlib.pyplot as plt\n",
        " \n",
        "#f: R^n -> R\n",
        "#dim(A)=p*n\n",
        "#dim(x)=n\n",
        "#dim(b)=p\n",
        "p=20\n",
        "n=12\n",
        " \n",
        "#Importar matrices dadas\n",
        "!wget https://www.fing.edu.uy/~mfiori/FuO/A.npy\n",
        "!wget https://www.fing.edu.uy/~mfiori/FuO/b.npy\n",
        "A = np.load('A.npy')\n",
        "b = np.load('b.npy')\n",
        "print(\"\\n ======================================= \\n\")\n",
        " \n",
        "#Función f\n",
        "def f(x):\n",
        "  return 0.5*(np.linalg.norm(np.subtract((np.dot(A,x)),b),2))**2\n",
        " \n",
        "#Gradiente de f\n",
        "def gradf(x):\n",
        "  return np.dot(A.T, np.subtract((np.dot(A,x)),b))\n",
        " \n",
        "#Cociente incremental evaluado en un punto y una dirección dadas\n",
        "def ci(x,v,h):\n",
        "  return ((f(np.add(x,v*h))-f(x))/h)\n",
        " \n",
        "#Valores aleatorios para punto y dirección de evaluación\n",
        "x = np.random.rand(n,1)\n",
        "v = np.random.rand(n,1)\n",
        " \n",
        "#Parte 2. d)\n",
        "#Veamos que la respuesta numérica tiende a la respuesta teórica\n",
        "iteraciones2d = []\n",
        "estimaciones = []\n",
        " \n",
        "for i in range(16):\n",
        "  iteraciones2d.append(i)\n",
        "  estimaciones.append(ci(x,v,1/10**(i/4)))\n",
        "\n",
        "#Grafica calculo númerico del gradiente\n",
        "plt.figure(0)\n",
        "plt.plot(iteraciones2d, estimaciones, \"ro\")\n",
        "plt.axhline(np.dot(gradf(x).T,v))\n",
        "plt.xlabel(\"Iteraciones\")\n",
        "plt.ylabel(\"Estimaciones $grad_{f}$\")\n",
        "plt.title(\"Parte 2. d)\")\n",
        "plt.savefig(\"graf1.png\")\n",
        " \n",
        "#Calculemos el paso optimo\n",
        "hessianaf = np.matmul(A.T, A)\n",
        "vapsHess, vepsHess = np.linalg.eig(hessianaf)\n",
        "m = np.min(vapsHess)\n",
        "M = np.max(vapsHess)\n",
        "alpha = 2/(m+M)\n",
        "print(\"El paso fijo es: \", alpha, \"\\n\")\n",
        " \n",
        " \n",
        "#Creamos un método de descenso por gradiente por maximo descenso\n",
        "def siguiente(xk):\n",
        "  return xk-gradf(xk)*alpha \n",
        " \n",
        "#Defino punto de partida\n",
        "actual = x\n",
        "print(\"El punto inicial es:\\n\", x.T, \"\\n\")\n",
        " \n",
        "#Calculo del mínimo de f\n",
        "optimo = np.dot(np.dot(np.linalg.inv(np.dot(A.T, A)),A.T),b)\n",
        "print(\"El mínimo de f se da en:\\n\",optimo.T, \"\\n\")\n",
        "\n",
        "#Parte 2. e)\n",
        "iteraciones2e = []\n",
        "distfunc = []\n",
        "distpuntos = []\n",
        "distoptimo = []\n",
        " \n",
        "for i in range(80):\n",
        "  iteraciones2e.append(i)\n",
        "  distfunc.append(f(siguiente(actual))-f(actual))\n",
        "  distpuntos.append(np.linalg.norm((siguiente(actual)-actual),2))\n",
        "  distoptimo.append(np.linalg.norm((np.subtract(siguiente(actual), optimo)),2))\n",
        "  actual = siguiente(actual)\n",
        "\n",
        "#Grafica |f(x_{k})-f(x_{k-1})|\n",
        "plt.figure(1)\n",
        "plt.plot(iteraciones2e, distfunc, \"go\")\n",
        "plt.axhline(0)\n",
        "plt.xlabel(\"Iteraciones\")\n",
        "plt.ylabel(\"$f(x_{k})-f(x_{k-1})$\")\n",
        "plt.title(\"Parte 2. e) 1.\")\n",
        "plt.savefig(\"graf2.png\")\n",
        " \n",
        "#Grafica ||x_{k}-x_{k-1}||\n",
        "plt.figure(2)\n",
        "plt.plot(iteraciones2e, distpuntos, \"bo\")\n",
        "plt.axhline(0)\n",
        "plt.xlabel(\"Iteraciones\")\n",
        "plt.ylabel(\"$||x_{k}-x_{k-1}||$\")\n",
        "plt.title(\"Parte 2. e) 2.\")\n",
        "plt.savefig(\"graf3.png\")\n",
        " \n",
        "#Grafica ||x_{k}-x*||\n",
        "plt.figure(3)\n",
        "plt.plot(iteraciones2e, distoptimo, \"yo\")\n",
        "plt.axhline(0)\n",
        "plt.xlabel(\"Iteraciones\")\n",
        "plt.ylabel(\"$||x_{k}-x^{*}||$\")\n",
        "plt.title(\"Parte 2. e) 3.\")\n",
        "plt.savefig(\"graf4.png\")\n",
        " \n",
        "print(\"\\n \\n\")"
      ],
      "execution_count": null,
      "outputs": [
        {
          "output_type": "stream",
          "text": [
            "--2021-07-14 21:53:34--  https://www.fing.edu.uy/~mfiori/FuO/A.npy\n",
            "Resolving www.fing.edu.uy (www.fing.edu.uy)... 164.73.32.20\n",
            "Connecting to www.fing.edu.uy (www.fing.edu.uy)|164.73.32.20|:443... connected.\n",
            "HTTP request sent, awaiting response... 200 OK\n",
            "Length: 2048 (2.0K)\n",
            "Saving to: ‘A.npy’\n",
            "\n",
            "A.npy               100%[===================>]   2.00K  --.-KB/s    in 0s      \n",
            "\n",
            "2021-07-14 21:53:36 (39.4 MB/s) - ‘A.npy’ saved [2048/2048]\n",
            "\n",
            "--2021-07-14 21:53:36--  https://www.fing.edu.uy/~mfiori/FuO/b.npy\n",
            "Resolving www.fing.edu.uy (www.fing.edu.uy)... 164.73.32.20\n",
            "Connecting to www.fing.edu.uy (www.fing.edu.uy)|164.73.32.20|:443... connected.\n",
            "HTTP request sent, awaiting response... 200 OK\n",
            "Length: 288\n",
            "Saving to: ‘b.npy’\n",
            "\n",
            "b.npy               100%[===================>]     288  --.-KB/s    in 0s      \n",
            "\n",
            "2021-07-14 21:53:36 (38.3 MB/s) - ‘b.npy’ saved [288/288]\n",
            "\n",
            "\n",
            " ======================================= \n",
            "\n",
            "El paso fijo es:  0.006395152692021134 \n",
            "\n",
            "El punto inicial es:\n",
            " [[0.8555564  0.92841333 0.29861137 0.56788601 0.67722047 0.87388252\n",
            "  0.5677381  0.22008397 0.48719615 0.40161995 0.05154808 0.43628487]] \n",
            "\n",
            "El mínimo de f se da en:\n",
            " [[-0.02544825  0.12224557  0.06802656  0.0976652   0.03420962  0.09243827\n",
            "   0.05266377  0.12843686  0.02170083 -0.04797942  0.02422277  0.03632934]] \n",
            "\n",
            "\n",
            " \n",
            "\n"
          ],
          "name": "stdout"
        },
        {
          "output_type": "display_data",
          "data": {
            "image/png": "[encoded data removed]",
            "text/plain": [
              "<Figure size 432x288 with 1 Axes>"
            ]
          },
          "metadata": {
            "tags": [],
            "needs_background": "light"
          }
        },
        {
          "output_type": "display_data",
          "data": {
            "image/png": "[encoded data removed]",
            "text/plain": [
              "<Figure size 432x288 with 1 Axes>"
            ]
          },
          "metadata": {
            "tags": [],
            "needs_background": "light"
          }
        },
        {
          "output_type": "display_data",
          "data": {
            "image/png": "[encoded data removed]",
            "text/plain": [
              "<Figure size 432x288 with 1 Axes>"
            ]
          },
          "metadata": {
            "tags": [],
            "needs_background": "light"
          }
        },
        {
          "output_type": "display_data",
          "data": {
            "image/png": "[encoded data removed]",
            "text/plain": [
              "<Figure size 432x288 with 1 Axes>"
            ]
          },
          "metadata": {
            "tags": [],
            "needs_background": "light"
          }
        }
      ]
    },
    {
      "cell_type": "code",
      "metadata": {
        "colab": {
          "base_uri": "https://localhost:8080/",
          "height": 279
        },
        "id": "-Mqosv0QmGc5",
        "outputId": "2f10d899-22d5-4a57-aece-c10e139491cf"
      },
      "source": [
        "##Caso 3x2\n",
        "##Hecho al principio para probar cosas.\n",
        "##Se puede ignorar.\n",
        "\n",
        "A = np.array([[1,2],[0,1],[3,1]])\n",
        "#print(A)\n",
        "\n",
        "b = np.array([[1],[2],[0]])\n",
        "#print(b)\n",
        "\n",
        "#print(np.linalg.norm(b,2))\n",
        "\n",
        "def f(x):\n",
        "  return 0.5*(np.linalg.norm(np.subtract((np.dot(A,x)),b),2))**2\n",
        "\n",
        "#print(f(np.array([[1],[2]])))\n",
        "\n",
        "def gradf(x):\n",
        "  return np.dot(A.T, np.subtract((np.dot(A,x)),b))\n",
        "\n",
        "#print(gradf(np.array([[1],[2]])))\n",
        "\n",
        "def ci(x,v,h):\n",
        "  return ((f(np.add(x,v*h))-f(x))/h)\n",
        "\n",
        "x = np.array([[30],[56]])\n",
        "v = np.array([[2],[5]])\n",
        "\n",
        "#print(x)\n",
        "#print(v)\n",
        "\n",
        "#print(gradf(x).T)\n",
        "\n",
        "#print(ci(x,v,0.00000001))\n",
        "#print(np.dot(gradf(x).T,v))\n",
        "\n",
        "#cocientes = []\n",
        "#for i in range(100):\n",
        "#  cocientes.append((ci(x,v,1/(i+1))))\n",
        "\n",
        "def proximo(actual, alfa):\n",
        "  return actual - gradf(actual)*alfa\n",
        "\n",
        "\n",
        "pasos = []\n",
        "#puntosX = []\n",
        "#puntosY = []\n",
        "\n",
        "actual = x\n",
        "\n",
        "#for i in range(100000):\n",
        "#  pasos.append(i)\n",
        "#  puntosX.append(proximo(actual, 0.0001)[0])\n",
        "#  puntosY.append(proximo(actual, 0.0001)[1])\n",
        "#  actual = proximo(actual, 0.0001)\n",
        "\n",
        "\n",
        "#plt.plot(pasos, puntosX, label = 'primera coordenada')\n",
        "#plt.plot(pasos, puntosY, label = 'segunda coordenada')\n",
        "#plt.xlabel('pasos')\n",
        "#plt.ylabel('punto actual')\n",
        "#plt.legend()\n",
        "#plt.show()\n",
        "\n",
        "evaluaciones = []\n",
        "\n",
        "for i in range(10000):\n",
        "  pasos.append(i)\n",
        "  evaluaciones.append(f(proximo(actual,0.0001))-f(actual))\n",
        "  actual = proximo(actual, 0.0001)\n",
        "\n",
        "plt.plot(pasos, evaluaciones, label = 'evaluaciones')\n",
        "plt.xlabel('pasos')\n",
        "plt.ylabel('punto actual')\n",
        "plt.legend()\n",
        "plt.show()"
      ],
      "execution_count": null,
      "outputs": [
        {
          "output_type": "display_data",
          "data": {
            "image/png": "[encoded data removed]",
            "text/plain": [
              "<Figure size 432x288 with 1 Axes>"
            ]
          },
          "metadata": {
            "tags": [],
            "needs_background": "light"
          }
        }
      ]
    }
  ]
}